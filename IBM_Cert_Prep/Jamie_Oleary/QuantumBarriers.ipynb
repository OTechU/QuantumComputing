{
 "cells": [
  {
   "cell_type": "markdown",
   "metadata": {},
   "source": [
    "<b>Quantum Barrier</b>\n",
    "<br>Barrier operation will not be there in standard quantum computing textbooks because it is not a standard primitive in quantum theory.\n",
    "The barrier acts as a directive for circuit compilation to separate pieces of a circuit so that any optimizations or re-writes are constrained to only act between barriers (and if there are no barriers they act on the whole circuit)."
   ]
  },
  {
   "cell_type": "code",
   "execution_count": 1,
   "metadata": {},
   "outputs": [
    {
     "name": "stderr",
     "output_type": "stream",
     "text": [
      "d:\\code\\quantum\\quantum-ibm\\venv\\lib\\site-packages\\IPython\\core\\display.py:724: UserWarning: Consider using IPython.display.IFrame instead\n",
      "  warnings.warn(\"Consider using IPython.display.IFrame instead\")\n"
     ]
    },
    {
     "data": {
      "text/plain": "<IPython.core.display.HTML object>",
      "text/html": "<iframe width=\"560\" height=\"315\" src=\"https://www.youtube.com/embed/tS2CMOyWFMQ?rel=0&amp;controls=0&amp;showinfo=0\" frameborder=\"0\" allowfullscreen></iframe>"
     },
     "execution_count": 1,
     "metadata": {},
     "output_type": "execute_result"
    }
   ],
   "source": [
    "from IPython.display import HTML\n",
    "HTML('<iframe width=\"560\" height=\"315\" src=\"https://www.youtube.com/embed/tS2CMOyWFMQ?rel=0&amp;controls=0&amp;showinfo=0\" frameborder=\"0\" allowfullscreen></iframe>')"
   ]
  },
  {
   "cell_type": "code",
   "execution_count": 2,
   "metadata": {},
   "outputs": [],
   "source": [
    "from qiskit import QuantumCircuit, QuantumRegister, transpile\n",
    "from qiskit.circuit.library import Barrier"
   ]
  },
  {
   "cell_type": "code",
   "execution_count": 3,
   "metadata": {},
   "outputs": [
    {
     "name": "stderr",
     "output_type": "stream",
     "text": [
      "d:\\code\\quantum\\quantum-ibm\\venv\\lib\\site-packages\\ipykernel_launcher.py:8: DeprecationWarning: The QuantumCircuit.u2 method is deprecated as of 0.16.0. It will be removed no earlier than 3 months after the release date. You can use the general 1-qubit gate QuantumCircuit.u instead: u2(φ,λ) = u(π/2, φ, λ). Alternatively, you can decompose it interms of QuantumCircuit.p and QuantumCircuit.sx: u2(φ,λ) = p(π/2+φ) sx p(λ-π/2) (1 pulse on hardware).\n",
      "  \n",
      "d:\\code\\quantum\\quantum-ibm\\venv\\lib\\site-packages\\ipykernel_launcher.py:11: DeprecationWarning: The QuantumCircuit.u3 method is deprecated as of 0.16.0. It will be removed no earlier than 3 months after the release date. You should use QuantumCircuit.u instead, which acts identically. Alternatively, you can decompose u3 in terms of QuantumCircuit.p and QuantumCircuit.sx: u3(ϴ,φ,λ) = p(φ+π) sx p(ϴ+π) sx p(λ) (2 pulses on hardware).\n",
      "  # This is added back by InteractiveShellApp.init_path()\n"
     ]
    },
    {
     "data": {
      "text/plain": "     ┌────────┐┌─────────────┐┌─────────────────┐\nq_0: ┤ P(0.2) ├┤ U2(0.1,0.2) ├┤ U3(0.1,0.2,0.3) ├\n     └────────┘└─────────────┘└─────────────────┘",
      "text/html": "<pre style=\"word-wrap: normal;white-space: pre;background: #fff0;line-height: 1.1;font-family: &quot;Courier New&quot;,Courier,monospace\">     ┌────────┐┌─────────────┐┌─────────────────┐\nq_0: ┤ P(0.2) ├┤ U2(0.1,0.2) ├┤ U3(0.1,0.2,0.3) ├\n     └────────┘└─────────────┘└─────────────────┘</pre>"
     },
     "execution_count": 3,
     "metadata": {},
     "output_type": "execute_result"
    }
   ],
   "source": [
    "#Create a ciruit with one qubit\n",
    "qc1 = QuantumCircuit(1)\n",
    "\n",
    "#Perform an operation\n",
    "qc1.p(0.2, 0)\n",
    "\n",
    "#Perform an operation\n",
    "qc1.u2(0.1,0.2, 0)\n",
    "\n",
    "#Perform an operation\n",
    "qc1.u3(0.1, 0.2, 0.3, 0)\n",
    "\n",
    "#Draw the circuit\n",
    "qc1.draw()"
   ]
  },
  {
   "cell_type": "code",
   "execution_count": 4,
   "metadata": {},
   "outputs": [
    {
     "data": {
      "text/plain": "     ┌────────┐┌─────────────┐┌─────────────────┐\nq_0: ┤ P(0.2) ├┤ U2(0.1,0.2) ├┤ U3(0.1,0.2,0.3) ├\n     └────────┘└─────────────┘└─────────────────┘",
      "text/html": "<pre style=\"word-wrap: normal;white-space: pre;background: #fff0;line-height: 1.1;font-family: &quot;Courier New&quot;,Courier,monospace\">     ┌────────┐┌─────────────┐┌─────────────────┐\nq_0: ┤ P(0.2) ├┤ U2(0.1,0.2) ├┤ U3(0.1,0.2,0.3) ├\n     └────────┘└─────────────┘└─────────────────┘</pre>"
     },
     "execution_count": 4,
     "metadata": {},
     "output_type": "execute_result"
    }
   ],
   "source": [
    "tqc1 = transpile(qc1)\n",
    "tqc1.draw()\n",
    "##If you check the output, you will see that the compiler optimized and merged all three operations together"
   ]
  },
  {
   "cell_type": "code",
   "execution_count": 5,
   "metadata": {},
   "outputs": [
    {
     "data": {
      "text/plain": "     ┌────────┐┌────────┐ ░ ┌─────────────┐ ░ ┌─────────────────┐\nq_0: ┤ P(0.2) ├┤ P(0.2) ├─░─┤ U2(0.1,0.2) ├─░─┤ U3(0.1,0.2,0.3) ├\n     └────────┘└────────┘ ░ └─────────────┘ ░ └─────────────────┘",
      "text/html": "<pre style=\"word-wrap: normal;white-space: pre;background: #fff0;line-height: 1.1;font-family: &quot;Courier New&quot;,Courier,monospace\">     ┌────────┐┌────────┐ ░ ┌─────────────┐ ░ ┌─────────────────┐\nq_0: ┤ P(0.2) ├┤ P(0.2) ├─░─┤ U2(0.1,0.2) ├─░─┤ U3(0.1,0.2,0.3) ├\n     └────────┘└────────┘ ░ └─────────────┘ ░ └─────────────────┘</pre>"
     },
     "execution_count": 5,
     "metadata": {},
     "output_type": "execute_result"
    }
   ],
   "source": [
    "qc2 = QuantumCircuit(1)\n",
    "\n",
    "#Perform an operation\n",
    "qc2.p(0.2, 0)\n",
    "qc2.p(0.2, 0)\n",
    "\n",
    "#Add a barrier\n",
    "qc2.barrier()\n",
    "\n",
    "#Perform an operation\n",
    "qc2.u2(0.1,0.2, 0)\n",
    "\n",
    "#Add a barrier\n",
    "qc2.barrier()\n",
    "\n",
    "#Perform an operation\n",
    "qc2.u3(0.1, 0.2, 0.3, 0)\n",
    "\n",
    "#Draw the circuit\n",
    "qc2.draw()\n"
   ]
  },
  {
   "cell_type": "code",
   "execution_count": 6,
   "metadata": {},
   "outputs": [
    {
     "data": {
      "text/plain": "     ┌────────┐┌────────┐ ░ ┌─────────────┐ ░ ┌─────────────────┐\nq_0: ┤ P(0.2) ├┤ P(0.2) ├─░─┤ U2(0.1,0.2) ├─░─┤ U3(0.1,0.2,0.3) ├\n     └────────┘└────────┘ ░ └─────────────┘ ░ └─────────────────┘",
      "text/html": "<pre style=\"word-wrap: normal;white-space: pre;background: #fff0;line-height: 1.1;font-family: &quot;Courier New&quot;,Courier,monospace\">     ┌────────┐┌────────┐ ░ ┌─────────────┐ ░ ┌─────────────────┐\nq_0: ┤ P(0.2) ├┤ P(0.2) ├─░─┤ U2(0.1,0.2) ├─░─┤ U3(0.1,0.2,0.3) ├\n     └────────┘└────────┘ ░ └─────────────┘ ░ └─────────────────┘</pre>"
     },
     "execution_count": 6,
     "metadata": {},
     "output_type": "execute_result"
    }
   ],
   "source": [
    "circuit2t = transpile(qc2)\n",
    "circuit2t.draw()\n",
    "\n",
    "##In this case, the compiler will not merge operations across barriers. Operations inside the barriers will still be merged.\n",
    "##The two operations before the first barrier are merged."
   ]
  },
  {
   "cell_type": "markdown",
   "metadata": {},
   "source": [
    "<b>Applying barrier on a specific qubit.</b><br>\n",
    "In case there are multiple qubits in a circuit, we can apply a barrier on a specifi qubit by passing the qubit number.\n",
    "The syntax is circuit.barrier(qubit_number). If qubit number is not passed, the barrier is applied on the entire circuit."
   ]
  },
  {
   "cell_type": "code",
   "execution_count": 7,
   "metadata": {},
   "outputs": [
    {
     "name": "stderr",
     "output_type": "stream",
     "text": [
      "d:\\code\\quantum\\quantum-ibm\\venv\\lib\\site-packages\\ipykernel_launcher.py:6: DeprecationWarning: The QuantumCircuit.u1 method is deprecated as of 0.16.0. It will be removed no earlier than 3 months after the release date. You should use the QuantumCircuit.p method instead, which acts identically.\n",
      "  \n"
     ]
    },
    {
     "data": {
      "text/plain": "        ┌───┐   ┌─────────┐\nq_0: ───┤ H ├───┤ U1(0.2) ├\n        ├───┤   └──┬───┬──┘\nq_1: ───┤ H ├──────┤ H ├───\n     ┌──┴───┴──┐┌──┴───┴──┐\nq_2: ┤ U1(0.5) ├┤ U1(0.3) ├\n     └─────────┘└─────────┘",
      "text/html": "<pre style=\"word-wrap: normal;white-space: pre;background: #fff0;line-height: 1.1;font-family: &quot;Courier New&quot;,Courier,monospace\">        ┌───┐   ┌─────────┐\nq_0: ───┤ H ├───┤ U1(0.2) ├\n        ├───┤   └──┬───┬──┘\nq_1: ───┤ H ├──────┤ H ├───\n     ┌──┴───┴──┐┌──┴───┴──┐\nq_2: ┤ U1(0.5) ├┤ U1(0.3) ├\n     └─────────┘└─────────┘</pre>"
     },
     "execution_count": 7,
     "metadata": {},
     "output_type": "execute_result"
    }
   ],
   "source": [
    "#Create a circuit with 3 qubits\n",
    "qc3 = QuantumCircuit(3)\n",
    "\n",
    "#Perform some operation\n",
    "qc3.h(0)\n",
    "qc3.u1(0.2,0)\n",
    "\n",
    "#Perform some operation\n",
    "qc3.h(1)\n",
    "qc3.h(1)\n",
    "\n",
    "#Perform some operation\n",
    "qc3.u1(0.5,2)\n",
    "qc3.u1(0.3,2)\n",
    "\n",
    "#Draw the circuit\n",
    "qc3.draw()"
   ]
  },
  {
   "cell_type": "code",
   "execution_count": 8,
   "metadata": {},
   "outputs": [
    {
     "data": {
      "text/plain": "        ┌───┐   ┌─────────┐ ░ ┌───┐\nq_0: ───┤ H ├───┤ U1(0.2) ├─░─┤ H ├\n        ├───┤   └──┬───┬──┘ ░ └───┘\nq_1: ───┤ H ├──────┤ H ├────░──────\n     ┌──┴───┴──┐┌──┴───┴──┐ ░      \nq_2: ┤ U1(0.5) ├┤ U1(0.3) ├─░──────\n     └─────────┘└─────────┘ ░      ",
      "text/html": "<pre style=\"word-wrap: normal;white-space: pre;background: #fff0;line-height: 1.1;font-family: &quot;Courier New&quot;,Courier,monospace\">        ┌───┐   ┌─────────┐ ░ ┌───┐\nq_0: ───┤ H ├───┤ U1(0.2) ├─░─┤ H ├\n        ├───┤   └──┬───┬──┘ ░ └───┘\nq_1: ───┤ H ├──────┤ H ├────░──────\n     ┌──┴───┴──┐┌──┴───┴──┐ ░      \nq_2: ┤ U1(0.5) ├┤ U1(0.3) ├─░──────\n     └─────────┘└─────────┘ ░      </pre>"
     },
     "execution_count": 8,
     "metadata": {},
     "output_type": "execute_result"
    }
   ],
   "source": [
    "#Apply a barrier on the entire circuit by omitting the qubit number\n",
    "qc3.barrier()\n",
    "\n",
    "#Perform some operation\n",
    "qc3.h(0)\n",
    "qc3.draw()"
   ]
  },
  {
   "cell_type": "code",
   "execution_count": 9,
   "metadata": {},
   "outputs": [
    {
     "data": {
      "text/plain": "        ┌───┐   ┌─────────┐ ░ ┌───┐     \nq_0: ───┤ H ├───┤ U1(0.2) ├─░─┤ H ├─────\n        ├───┤   └──┬───┬──┘ ░ └─░─┘┌───┐\nq_1: ───┤ H ├──────┤ H ├────░───░──┤ H ├\n     ┌──┴───┴──┐┌──┴───┴──┐ ░   ░  └───┘\nq_2: ┤ U1(0.5) ├┤ U1(0.3) ├─░───────────\n     └─────────┘└─────────┘ ░           ",
      "text/html": "<pre style=\"word-wrap: normal;white-space: pre;background: #fff0;line-height: 1.1;font-family: &quot;Courier New&quot;,Courier,monospace\">        ┌───┐   ┌─────────┐ ░ ┌───┐     \nq_0: ───┤ H ├───┤ U1(0.2) ├─░─┤ H ├─────\n        ├───┤   └──┬───┬──┘ ░ └─░─┘┌───┐\nq_1: ───┤ H ├──────┤ H ├────░───░──┤ H ├\n     ┌──┴───┴──┐┌──┴───┴──┐ ░   ░  └───┘\nq_2: ┤ U1(0.5) ├┤ U1(0.3) ├─░───────────\n     └─────────┘└─────────┘ ░           </pre>"
     },
     "execution_count": 9,
     "metadata": {},
     "output_type": "execute_result"
    }
   ],
   "source": [
    "#Apply a barrier on qbit 2 specifically\n",
    "qc3.barrier(1)\n",
    "qc3.h(1)\n",
    "qc3.draw()\n",
    "#We can see the barrier being applied on on 2nd qubit"
   ]
  }
 ],
 "metadata": {
  "hide_input": false,
  "kernelspec": {
   "display_name": "Python 3",
   "language": "python",
   "name": "python3"
  },
  "language_info": {
   "codemirror_mode": {
    "name": "ipython",
    "version": 3
   },
   "file_extension": ".py",
   "mimetype": "text/x-python",
   "name": "python",
   "nbconvert_exporter": "python",
   "pygments_lexer": "ipython3",
   "version": "3.7.5"
  }
 },
 "nbformat": 4,
 "nbformat_minor": 4
}