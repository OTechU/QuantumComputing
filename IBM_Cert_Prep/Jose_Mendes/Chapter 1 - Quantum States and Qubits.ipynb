{
 "cells": [
  {
   "cell_type": "markdown",
   "metadata": {},
   "source": [
    "# Chapter 1 : Quantum State and Qubits\n",
    "\n",
    "This notebook is to be used with chapter 1 of Qiskit (https://qiskit.org/textbook/ch-states/introduction.html)\n",
    "<BR>\n",
    "The material created in this notebook was done by: Jose Mendes (jmendez8906 + at + gmail.com)"
   ]
  },
  {
   "cell_type": "code",
   "execution_count": 21,
   "metadata": {
    "scrolled": true
   },
   "outputs": [],
   "source": [
    "#Run the following command to install the textbook and use their sample code\n",
    "#pip install git+https://github.com/qiskit-community/qiskit-textbook.git#subdirectory=qiskit-textbook-src"
   ]
  },
  {
   "cell_type": "markdown",
   "metadata": {},
   "source": [
    "# Introduction (1.1)\n",
    "<BR>\n",
    "This section is very rudimentary and just goes over what would be good to know (linear algebra and working with python). There are only two images and I think the more important one if the introduction of the bloch sphere (shown below). \n",
    "\n"
   ]
  },
  {
   "cell_type": "markdown",
   "metadata": {},
   "source": [
    "![Qubit-Sphere](Images/Qubit.png \"Qubit-Sphere\")"
   ]
  },
  {
   "cell_type": "markdown",
   "metadata": {},
   "source": [
    "# The Atoms of Computation (1.2)\n",
    "<BR>\n",
    "    The idea of this chapter is to get the user familiar with how things currently work (bits) and to start thinking in quantum terms (qubits)"
   ]
  },
  {
   "cell_type": "markdown",
   "metadata": {},
   "source": [
    "# Splitting information into bits \n",
    "<BR>\n",
    "    To start with, how are numbers understood by the computer. In essence, how to go from decimal to binary. "
   ]
  },
  {
   "cell_type": "code",
   "execution_count": 22,
   "metadata": {},
   "outputs": [],
   "source": [
    "from qiskit import QuantumCircuit, assemble, Aer\n",
    "from qiskit.visualization import plot_histogram"
   ]
  },
  {
   "cell_type": "code",
   "execution_count": 23,
   "metadata": {},
   "outputs": [],
   "source": [
    "#For the following example to work, i had to install an extra package\n",
    "#pip install numexpr"
   ]
  },
  {
   "cell_type": "code",
   "execution_count": 24,
   "metadata": {},
   "outputs": [
    {
     "data": {
      "application/vnd.jupyter.widget-view+json": {
       "model_id": "0844764cbe48426888e1346942cabc36",
       "version_major": 2,
       "version_minor": 0
      },
      "text/plain": [
       "VBox(children=(Label(value='Toggle the bits below to change the binary number.'), Label(value='Think of a numb…"
      ]
     },
     "metadata": {},
     "output_type": "display_data"
    },
    {
     "data": {
      "application/vnd.jupyter.widget-view+json": {
       "model_id": "bded431fe50f4e31a4db3183ccff7d7e",
       "version_major": 2,
       "version_minor": 0
      },
      "text/plain": [
       "HTML(value='<pre>Binary   Decimal\\n 00000 = 0</pre>')"
      ]
     },
     "metadata": {},
     "output_type": "display_data"
    }
   ],
   "source": [
    "from qiskit_textbook.widgets import binary_widget\n",
    "binary_widget(nbits=5)\n",
    "#Here you can click on the numbers in the square to get the right binary and decimal numbers"
   ]
  },
  {
   "cell_type": "markdown",
   "metadata": {},
   "source": [
    "Sample questions: \n",
    "<BR>\n",
    "    -Think of a number and try to write it down in binary.\n",
    "    <BR>\n",
    "    -If you have n bits, how many different states can they be in?"
   ]
  },
  {
   "cell_type": "markdown",
   "metadata": {},
   "source": [
    "# Computation as a diagram \n",
    "<BR>\n",
    "    Comparison between a bit based diagram and a quantum based diagram"
   ]
  },
  {
   "cell_type": "markdown",
   "metadata": {},
   "source": [
    "Here we compare two circuits that we will be working on in this chapter\n",
    "<BR>\n",
    "    ![StandardCircuit](Images/StandardCircuit.png \"StandardCircuit\")"
   ]
  },
  {
   "cell_type": "markdown",
   "metadata": {},
   "source": [
    "These two circuits are identical, but each manipulates different objects. The standard circuit(above) works on bits, or binary objects (1's and 0's). While the Quantum circuit (below) works on Qubits.\n",
    "<BR>\n",
    "![QuantumCircuit](Images/QuantumCircuit.png \"QuantumCircuit\")"
   ]
  },
  {
   "cell_type": "markdown",
   "metadata": {},
   "source": [
    "# First Quantum Circuit"
   ]
  },
  {
   "cell_type": "code",
   "execution_count": 25,
   "metadata": {},
   "outputs": [],
   "source": [
    "'''\n",
    "This circuit, which we call qc_output is made up of n_q: number of qubits and n_b: number of output bits \n",
    "'''\n",
    "n = 8\n",
    "n_q = n\n",
    "n_b = n\n",
    "qc_output = QuantumCircuit(n_q,n_b)"
   ]
  },
  {
   "cell_type": "code",
   "execution_count": 26,
   "metadata": {},
   "outputs": [
    {
     "data": {
      "text/html": [
       "<pre style=\"word-wrap: normal;white-space: pre;background: #fff0;line-height: 1.1;font-family: &quot;Courier New&quot;,Courier,monospace\">     ┌─┐                     \n",
       "q_0: ┤M├─────────────────────\n",
       "     └╥┘┌─┐                  \n",
       "q_1: ─╫─┤M├──────────────────\n",
       "      ║ └╥┘┌─┐               \n",
       "q_2: ─╫──╫─┤M├───────────────\n",
       "      ║  ║ └╥┘┌─┐            \n",
       "q_3: ─╫──╫──╫─┤M├────────────\n",
       "      ║  ║  ║ └╥┘┌─┐         \n",
       "q_4: ─╫──╫──╫──╫─┤M├─────────\n",
       "      ║  ║  ║  ║ └╥┘┌─┐      \n",
       "q_5: ─╫──╫──╫──╫──╫─┤M├──────\n",
       "      ║  ║  ║  ║  ║ └╥┘┌─┐   \n",
       "q_6: ─╫──╫──╫──╫──╫──╫─┤M├───\n",
       "      ║  ║  ║  ║  ║  ║ └╥┘┌─┐\n",
       "q_7: ─╫──╫──╫──╫──╫──╫──╫─┤M├\n",
       "      ║  ║  ║  ║  ║  ║  ║ └╥┘\n",
       "c_0: ═╩══╬══╬══╬══╬══╬══╬══╬═\n",
       "         ║  ║  ║  ║  ║  ║  ║ \n",
       "c_1: ════╩══╬══╬══╬══╬══╬══╬═\n",
       "            ║  ║  ║  ║  ║  ║ \n",
       "c_2: ═══════╩══╬══╬══╬══╬══╬═\n",
       "               ║  ║  ║  ║  ║ \n",
       "c_3: ══════════╩══╬══╬══╬══╬═\n",
       "                  ║  ║  ║  ║ \n",
       "c_4: ═════════════╩══╬══╬══╬═\n",
       "                     ║  ║  ║ \n",
       "c_5: ════════════════╩══╬══╬═\n",
       "                        ║  ║ \n",
       "c_6: ═══════════════════╩══╬═\n",
       "                           ║ \n",
       "c_7: ══════════════════════╩═\n",
       "                             </pre>"
      ],
      "text/plain": [
       "     ┌─┐                     \n",
       "q_0: ┤M├─────────────────────\n",
       "     └╥┘┌─┐                  \n",
       "q_1: ─╫─┤M├──────────────────\n",
       "      ║ └╥┘┌─┐               \n",
       "q_2: ─╫──╫─┤M├───────────────\n",
       "      ║  ║ └╥┘┌─┐            \n",
       "q_3: ─╫──╫──╫─┤M├────────────\n",
       "      ║  ║  ║ └╥┘┌─┐         \n",
       "q_4: ─╫──╫──╫──╫─┤M├─────────\n",
       "      ║  ║  ║  ║ └╥┘┌─┐      \n",
       "q_5: ─╫──╫──╫──╫──╫─┤M├──────\n",
       "      ║  ║  ║  ║  ║ └╥┘┌─┐   \n",
       "q_6: ─╫──╫──╫──╫──╫──╫─┤M├───\n",
       "      ║  ║  ║  ║  ║  ║ └╥┘┌─┐\n",
       "q_7: ─╫──╫──╫──╫──╫──╫──╫─┤M├\n",
       "      ║  ║  ║  ║  ║  ║  ║ └╥┘\n",
       "c_0: ═╩══╬══╬══╬══╬══╬══╬══╬═\n",
       "         ║  ║  ║  ║  ║  ║  ║ \n",
       "c_1: ════╩══╬══╬══╬══╬══╬══╬═\n",
       "            ║  ║  ║  ║  ║  ║ \n",
       "c_2: ═══════╩══╬══╬══╬══╬══╬═\n",
       "               ║  ║  ║  ║  ║ \n",
       "c_3: ══════════╩══╬══╬══╬══╬═\n",
       "                  ║  ║  ║  ║ \n",
       "c_4: ═════════════╩══╬══╬══╬═\n",
       "                     ║  ║  ║ \n",
       "c_5: ════════════════╩══╬══╬═\n",
       "                        ║  ║ \n",
       "c_6: ═══════════════════╩══╬═\n",
       "                           ║ \n",
       "c_7: ══════════════════════╩═\n",
       "                             "
      ]
     },
     "execution_count": 26,
     "metadata": {},
     "output_type": "execute_result"
    }
   ],
   "source": [
    "'''\n",
    "To extract information from the qubits we use the operation \"measure\"\n",
    "Here we tell our circuit to read qubit at position j and write it to a bit in position j\n",
    "'''\n",
    "for j in range(n):\n",
    "    qc_output.measure(j,j)\n",
    "qc_output.draw()"
   ]
  },
  {
   "cell_type": "code",
   "execution_count": 27,
   "metadata": {},
   "outputs": [
    {
     "data": {
      "image/png": "[encoded data removed]",
      "text/plain": [
       "<Figure size 504x360 with 1 Axes>"
      ]
     },
     "execution_count": 27,
     "metadata": {},
     "output_type": "execute_result"
    }
   ],
   "source": [
    "'''\n",
    "Qubits are always innitialized to positon 0, to see this we can do a historgram.\n",
    "The reason for running many times and showing the result as a histogram is because quantum computers may have some randomness in their results.\n",
    "To run on a real device you simply need to replace Aer.get_backend('qasm_simulator') with the backend object of the device you want to use.\n",
    "'''\n",
    "sim = Aer.get_backend('qasm_simulator')  # this is the simulator we'll use\n",
    "qobj = assemble(qc_output)               # this turns the circuit into an object our backend can run\n",
    "result = sim.run(qobj).result()          # we run the experiment and get the result from that experiment\n",
    "# from the results, we get a dictionary containing the number of times (counts)\n",
    "# each result appeared\n",
    "counts = result.get_counts()\n",
    "# and display it on a histogram\n",
    "plot_histogram(counts)"
   ]
  },
  {
   "cell_type": "markdown",
   "metadata": {},
   "source": [
    "# Creating an Adder Circuit"
   ]
  },
  {
   "cell_type": "code",
   "execution_count": 28,
   "metadata": {},
   "outputs": [
    {
     "data": {
      "text/html": [
       "<pre style=\"word-wrap: normal;white-space: pre;background: #fff0;line-height: 1.1;font-family: &quot;Courier New&quot;,Courier,monospace\">          \n",
       "q_0: ─────\n",
       "          \n",
       "q_1: ─────\n",
       "          \n",
       "q_2: ─────\n",
       "          \n",
       "q_3: ─────\n",
       "          \n",
       "q_4: ─────\n",
       "          \n",
       "q_5: ─────\n",
       "          \n",
       "q_6: ─────\n",
       "     ┌───┐\n",
       "q_7: ┤ X ├\n",
       "     └───┘</pre>"
      ],
      "text/plain": [
       "          \n",
       "q_0: ─────\n",
       "          \n",
       "q_1: ─────\n",
       "          \n",
       "q_2: ─────\n",
       "          \n",
       "q_3: ─────\n",
       "          \n",
       "q_4: ─────\n",
       "          \n",
       "q_5: ─────\n",
       "          \n",
       "q_6: ─────\n",
       "     ┌───┐\n",
       "q_7: ┤ X ├\n",
       "     └───┘"
      ]
     },
     "execution_count": 28,
     "metadata": {},
     "output_type": "execute_result"
    }
   ],
   "source": [
    "'''\n",
    "The NOT-Gate (x). It flips the qubit we assign it to. In this case, we want to NOT the 7th qubit, to do this we use the X function on that qubit.\n",
    "'''\n",
    "qc_encode = QuantumCircuit(n)\n",
    "qc_encode.x(7)\n",
    "qc_encode.draw()"
   ]
  },
  {
   "cell_type": "code",
   "execution_count": 29,
   "metadata": {},
   "outputs": [
    {
     "data": {
      "text/html": [
       "<pre style=\"word-wrap: normal;white-space: pre;background: #fff0;line-height: 1.1;font-family: &quot;Courier New&quot;,Courier,monospace\">          ┌─┐                     \n",
       "q_0: ─────┤M├─────────────────────\n",
       "          └╥┘┌─┐                  \n",
       "q_1: ──────╫─┤M├──────────────────\n",
       "           ║ └╥┘┌─┐               \n",
       "q_2: ──────╫──╫─┤M├───────────────\n",
       "           ║  ║ └╥┘┌─┐            \n",
       "q_3: ──────╫──╫──╫─┤M├────────────\n",
       "           ║  ║  ║ └╥┘┌─┐         \n",
       "q_4: ──────╫──╫──╫──╫─┤M├─────────\n",
       "           ║  ║  ║  ║ └╥┘┌─┐      \n",
       "q_5: ──────╫──╫──╫──╫──╫─┤M├──────\n",
       "           ║  ║  ║  ║  ║ └╥┘┌─┐   \n",
       "q_6: ──────╫──╫──╫──╫──╫──╫─┤M├───\n",
       "     ┌───┐ ║  ║  ║  ║  ║  ║ └╥┘┌─┐\n",
       "q_7: ┤ X ├─╫──╫──╫──╫──╫──╫──╫─┤M├\n",
       "     └───┘ ║  ║  ║  ║  ║  ║  ║ └╥┘\n",
       "c_0: ══════╩══╬══╬══╬══╬══╬══╬══╬═\n",
       "              ║  ║  ║  ║  ║  ║  ║ \n",
       "c_1: ═════════╩══╬══╬══╬══╬══╬══╬═\n",
       "                 ║  ║  ║  ║  ║  ║ \n",
       "c_2: ════════════╩══╬══╬══╬══╬══╬═\n",
       "                    ║  ║  ║  ║  ║ \n",
       "c_3: ═══════════════╩══╬══╬══╬══╬═\n",
       "                       ║  ║  ║  ║ \n",
       "c_4: ══════════════════╩══╬══╬══╬═\n",
       "                          ║  ║  ║ \n",
       "c_5: ═════════════════════╩══╬══╬═\n",
       "                             ║  ║ \n",
       "c_6: ════════════════════════╩══╬═\n",
       "                                ║ \n",
       "c_7: ═══════════════════════════╩═\n",
       "                                  </pre>"
      ],
      "text/plain": [
       "          ┌─┐                     \n",
       "q_0: ─────┤M├─────────────────────\n",
       "          └╥┘┌─┐                  \n",
       "q_1: ──────╫─┤M├──────────────────\n",
       "           ║ └╥┘┌─┐               \n",
       "q_2: ──────╫──╫─┤M├───────────────\n",
       "           ║  ║ └╥┘┌─┐            \n",
       "q_3: ──────╫──╫──╫─┤M├────────────\n",
       "           ║  ║  ║ └╥┘┌─┐         \n",
       "q_4: ──────╫──╫──╫──╫─┤M├─────────\n",
       "           ║  ║  ║  ║ └╥┘┌─┐      \n",
       "q_5: ──────╫──╫──╫──╫──╫─┤M├──────\n",
       "           ║  ║  ║  ║  ║ └╥┘┌─┐   \n",
       "q_6: ──────╫──╫──╫──╫──╫──╫─┤M├───\n",
       "     ┌───┐ ║  ║  ║  ║  ║  ║ └╥┘┌─┐\n",
       "q_7: ┤ X ├─╫──╫──╫──╫──╫──╫──╫─┤M├\n",
       "     └───┘ ║  ║  ║  ║  ║  ║  ║ └╥┘\n",
       "c_0: ══════╩══╬══╬══╬══╬══╬══╬══╬═\n",
       "              ║  ║  ║  ║  ║  ║  ║ \n",
       "c_1: ═════════╩══╬══╬══╬══╬══╬══╬═\n",
       "                 ║  ║  ║  ║  ║  ║ \n",
       "c_2: ════════════╩══╬══╬══╬══╬══╬═\n",
       "                    ║  ║  ║  ║  ║ \n",
       "c_3: ═══════════════╩══╬══╬══╬══╬═\n",
       "                       ║  ║  ║  ║ \n",
       "c_4: ══════════════════╩══╬══╬══╬═\n",
       "                          ║  ║  ║ \n",
       "c_5: ═════════════════════╩══╬══╬═\n",
       "                             ║  ║ \n",
       "c_6: ════════════════════════╩══╬═\n",
       "                                ║ \n",
       "c_7: ═══════════════════════════╩═\n",
       "                                  "
      ]
     },
     "execution_count": 29,
     "metadata": {},
     "output_type": "execute_result"
    }
   ],
   "source": [
    "'''\n",
    "We can combine our current circuit with the previous one (qc_output) to extract the results\n",
    "'''\n",
    "qc = qc_encode + qc_output\n",
    "qc.draw()"
   ]
  },
  {
   "cell_type": "code",
   "execution_count": 30,
   "metadata": {},
   "outputs": [
    {
     "data": {
      "image/png": "[encoded data removed]",
      "text/plain": [
       "<Figure size 504x360 with 1 Axes>"
      ]
     },
     "execution_count": 30,
     "metadata": {},
     "output_type": "execute_result"
    }
   ],
   "source": [
    "'''\n",
    "Same as before, we want a histogram to plot our results. \n",
    "We can see that now we get the string 10000000 instead. This is because we flipped the 2^7 bit, 128. \n",
    "'''\n",
    "qobj = assemble(qc)\n",
    "counts = sim.run(qobj).result().get_counts()\n",
    "plot_histogram(counts)"
   ]
  },
  {
   "cell_type": "markdown",
   "metadata": {},
   "source": [
    "# Adding With Qiskit"
   ]
  },
  {
   "cell_type": "markdown",
   "metadata": {},
   "source": [
    "We will be using a half adder in Qiskit. This will show us how a circuit encodes, executes and result extraction. \n",
    "<BR>\n",
    "    ![CircuitOverview](Images/CircuitOverview.png \"CircuitOverview\")"
   ]
  },
  {
   "cell_type": "code",
   "execution_count": 31,
   "metadata": {},
   "outputs": [
    {
     "data": {
      "text/html": [
       "<pre style=\"word-wrap: normal;white-space: pre;background: #fff0;line-height: 1.1;font-family: &quot;Courier New&quot;,Courier,monospace\">          \n",
       "q_0: ──■──\n",
       "     ┌─┴─┐\n",
       "q_1: ┤ X ├\n",
       "     └───┘</pre>"
      ],
      "text/plain": [
       "          \n",
       "q_0: ──■──\n",
       "     ┌─┴─┐\n",
       "q_1: ┤ X ├\n",
       "     └───┘"
      ]
     },
     "execution_count": 31,
     "metadata": {},
     "output_type": "execute_result"
    }
   ],
   "source": [
    "'''\n",
    "For the half adder to work, we need to do the following operations:\n",
    "0+0 = 00\n",
    "0+1 = 01\n",
    "1+0 = 01\n",
    "1+1 = 10\n",
    "Which is an XOR gate.\n",
    "In quantum computers, an XOR gate is a controlled-NOT gate (cx)\n",
    "Here gate applies to a pait of qubits. One is the Control (the little black dot) and the other one is the target (the big box with an X)\n",
    "In essence this gate compares both qubits and if they are the same the target qubit becomes 0 and 1 if they are different\n",
    "'''\n",
    "\n",
    "qc_cnot = QuantumCircuit(2)\n",
    "qc_cnot.cx(0,1)\n",
    "qc_cnot.draw()"
   ]
  },
  {
   "cell_type": "markdown",
   "metadata": {},
   "source": [
    "This table helps illustrate this concept:\n",
    "<BR>\n",
    "    ![ControlledNot](Images/ControlledNotGate.png \"ControlledNot\")"
   ]
  },
  {
   "cell_type": "code",
   "execution_count": 32,
   "metadata": {},
   "outputs": [
    {
     "data": {
      "text/html": [
       "<pre style=\"word-wrap: normal;white-space: pre;background: #fff0;line-height: 1.1;font-family: &quot;Courier New&quot;,Courier,monospace\">     ┌───┐ ░            ░       \n",
       "q_0: ┤ X ├─░───■────────░───────\n",
       "     ├───┤ ░   │        ░       \n",
       "q_1: ┤ X ├─░───┼────■───░───────\n",
       "     └───┘ ░ ┌─┴─┐┌─┴─┐ ░ ┌─┐   \n",
       "q_2: ──────░─┤ X ├┤ X ├─░─┤M├───\n",
       "           ░ └───┘└───┘ ░ └╥┘┌─┐\n",
       "q_3: ──────░────────────░──╫─┤M├\n",
       "           ░            ░  ║ └╥┘\n",
       "c_0: ══════════════════════╩══╬═\n",
       "                              ║ \n",
       "c_1: ═════════════════════════╩═\n",
       "                                </pre>"
      ],
      "text/plain": [
       "     ┌───┐ ░            ░       \n",
       "q_0: ┤ X ├─░───■────────░───────\n",
       "     ├───┤ ░   │        ░       \n",
       "q_1: ┤ X ├─░───┼────■───░───────\n",
       "     └───┘ ░ ┌─┴─┐┌─┴─┐ ░ ┌─┐   \n",
       "q_2: ──────░─┤ X ├┤ X ├─░─┤M├───\n",
       "           ░ └───┘└───┘ ░ └╥┘┌─┐\n",
       "q_3: ──────░────────────░──╫─┤M├\n",
       "           ░            ░  ║ └╥┘\n",
       "c_0: ══════════════════════╩══╬═\n",
       "                              ║ \n",
       "c_1: ═════════════════════════╩═\n",
       "                                "
      ]
     },
     "execution_count": 32,
     "metadata": {},
     "output_type": "execute_result"
    }
   ],
   "source": [
    "'''\n",
    "The following is half of our half adder. Here qubits q_0 and q_1 are the inputs. Qubits q_2 and q_3 are our scratch pads and finally c_0 and c_1 \n",
    "are our regular bits.\n",
    "Lets think about this logic for a second. We write both c-nots into q_2 because of the carry over bits. \n",
    "With the not-gates on 0 and 1 we have 11 as our input. \n",
    "Next we do controlled-not from 0 to 2. Therefore, the input is 01 and after the first step, we end up with 11 (second row of the above picuture)\n",
    "Next we do controlled-not from 1 to 2. Therefore we now have 11, which we end up with 01\n",
    "'''\n",
    "qc_ha = QuantumCircuit(4,2)\n",
    "# encode inputs in qubits 0 and 1\n",
    "qc_ha.x(0) # For a=0, remove this line. For a=1, leave it.\n",
    "qc_ha.x(1) # For b=0, remove this line. For b=1, leave it.\n",
    "qc_ha.barrier()\n",
    "# use cnots to write the XOR of the inputs on qubit 2\n",
    "qc_ha.cx(0,2)\n",
    "qc_ha.cx(1,2)\n",
    "qc_ha.barrier()\n",
    "# extract outputs\n",
    "qc_ha.measure(2,0) # extract XOR value\n",
    "qc_ha.measure(3,1)\n",
    "\n",
    "qc_ha.draw()"
   ]
  },
  {
   "cell_type": "code",
   "execution_count": 41,
   "metadata": {},
   "outputs": [
    {
     "data": {
      "text/html": [
       "<pre style=\"word-wrap: normal;white-space: pre;background: #fff0;line-height: 1.1;font-family: &quot;Courier New&quot;,Courier,monospace\">     ┌───┐ ░                 ░       \n",
       "q_0: ┤ X ├─░───■─────────■───░───────\n",
       "     ├───┤ ░   │         │   ░       \n",
       "q_1: ┤ X ├─░───┼────■────■───░───────\n",
       "     └───┘ ░ ┌─┴─┐┌─┴─┐  │   ░ ┌─┐   \n",
       "q_2: ──────░─┤ X ├┤ X ├──┼───░─┤M├───\n",
       "           ░ └───┘└───┘┌─┴─┐ ░ └╥┘┌─┐\n",
       "q_3: ──────░───────────┤ X ├─░──╫─┤M├\n",
       "           ░           └───┘ ░  ║ └╥┘\n",
       "c_0: ═══════════════════════════╩══╬═\n",
       "                                   ║ \n",
       "c_1: ══════════════════════════════╩═\n",
       "                                     </pre>"
      ],
      "text/plain": [
       "     ┌───┐ ░                 ░       \n",
       "q_0: ┤ X ├─░───■─────────■───░───────\n",
       "     ├───┤ ░   │         │   ░       \n",
       "q_1: ┤ X ├─░───┼────■────■───░───────\n",
       "     └───┘ ░ ┌─┴─┐┌─┴─┐  │   ░ ┌─┐   \n",
       "q_2: ──────░─┤ X ├┤ X ├──┼───░─┤M├───\n",
       "           ░ └───┘└───┘┌─┴─┐ ░ └╥┘┌─┐\n",
       "q_3: ──────░───────────┤ X ├─░──╫─┤M├\n",
       "           ░           └───┘ ░  ║ └╥┘\n",
       "c_0: ═══════════════════════════╩══╬═\n",
       "                                   ║ \n",
       "c_1: ══════════════════════════════╩═\n",
       "                                     "
      ]
     },
     "execution_count": 41,
     "metadata": {},
     "output_type": "execute_result"
    }
   ],
   "source": [
    "'''\n",
    "The third qubit we need is to figure out the last bit. This last bit (the right one). This is the case when we do 1+1=10. For this we need a \n",
    "gate that is controlled by both inputs, which a C-NOT gate can do. Here the controls are q_0 and q_1 and the target is q_3. \n",
    "'''\n",
    "qc_ha = QuantumCircuit(4,2)\n",
    "# encode inputs in qubits 0 and 1\n",
    "qc_ha.x(0) # For a=0, remove the this line. For a=1, leave it.\n",
    "qc_ha.x(1) # For b=0, remove the this line. For b=1, leave it.\n",
    "qc_ha.barrier()\n",
    "# use cnots to write the XOR of the inputs on qubit 2\n",
    "qc_ha.cx(0,2)\n",
    "qc_ha.cx(1,2)\n",
    "# use ccx to write the AND of the inputs on qubit 3\n",
    "qc_ha.ccx(0,1,3)\n",
    "qc_ha.barrier()\n",
    "# extract outputs\n",
    "qc_ha.measure(2,0) # extract XOR value\n",
    "qc_ha.measure(3,1) # extract AND value\n",
    "\n",
    "qc_ha.draw()"
   ]
  },
  {
   "cell_type": "code",
   "execution_count": 42,
   "metadata": {},
   "outputs": [
    {
     "data": {
      "image/png": "[encoded data removed]",
      "text/plain": [
       "<Figure size 504x360 with 1 Axes>"
      ]
     },
     "execution_count": 42,
     "metadata": {},
     "output_type": "execute_result"
    }
   ],
   "source": [
    "'''\n",
    "Finally we can check our answers here.\n",
    "It is encouraged that you try to play with the circuit and the different inputs that can be done. This can be achieved by changing the NOT-gates\n",
    "in q_0 and q_1\n",
    "'''\n",
    "qobj = assemble(qc_ha)\n",
    "counts = sim.run(qobj).result().get_counts()\n",
    "plot_histogram(counts)"
   ]
  }
 ],
 "metadata": {
  "kernelspec": {
   "display_name": "Python 3",
   "language": "python",
   "name": "python3"
  },
  "language_info": {
   "codemirror_mode": {
    "name": "ipython",
    "version": 3
   },
   "file_extension": ".py",
   "mimetype": "text/x-python",
   "name": "python",
   "nbconvert_exporter": "python",
   "pygments_lexer": "ipython3",
   "version": "3.8.5"
  }
 },
 "nbformat": 4,
 "nbformat_minor": 4
}
