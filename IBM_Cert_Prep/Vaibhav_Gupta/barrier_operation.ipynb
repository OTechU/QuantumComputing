{
 "cells": [
  {
   "cell_type": "markdown",
   "metadata": {},
   "source": [
    "<b>Quantum Barrier</b>\n",
    "<br>Barrier operation will not be there in standard quantum computing textbooks because it is not a standard primitive in quantum theory.\n",
    "The barrier acts as a directive for circuit compilation to separate pieces of a circuit so that any optimizations or re-writes are constrained to only act between barriers (and if there are no barriers they act on the whole circuit)."
   ]
  },
  {
   "cell_type": "code",
   "execution_count": 79,
   "metadata": {},
   "outputs": [
    {
     "data": {
      "text/html": [
       "<iframe width=\"560\" height=\"315\" src=\"https://www.youtube.com/embed/tS2CMOyWFMQ?rel=0&amp;controls=0&amp;showinfo=0\" frameborder=\"0\" allowfullscreen></iframe>"
      ],
      "text/plain": [
       "<IPython.core.display.HTML object>"
      ]
     },
     "execution_count": 79,
     "metadata": {},
     "output_type": "execute_result"
    }
   ],
   "source": [
    "from IPython.display import HTML\n",
    "HTML('<iframe width=\"560\" height=\"315\" src=\"https://www.youtube.com/embed/tS2CMOyWFMQ?rel=0&amp;controls=0&amp;showinfo=0\" frameborder=\"0\" allowfullscreen></iframe>')"
   ]
  },
  {
   "cell_type": "code",
   "execution_count": 97,
   "metadata": {},
   "outputs": [],
   "source": [
    "from qiskit import QuantumCircuit, QuantumRegister, transpile\n",
    "from qiskit.circuit.library import Barrier"
   ]
  },
  {
   "cell_type": "code",
   "execution_count": 114,
   "metadata": {},
   "outputs": [
    {
     "data": {
      "text/html": [
       "<pre style=\"word-wrap: normal;white-space: pre;background: #fff0;line-height: 1.1;font-family: &quot;Courier New&quot;,Courier,monospace\">     ┌─────────┐┌─────────────┐┌─────────────────┐\n",
       "q_0: ┤ U1(0.2) ├┤ U2(0.1,0.2) ├┤ U3(0.1,0.2,0.3) ├\n",
       "     └─────────┘└─────────────┘└─────────────────┘</pre>"
      ],
      "text/plain": [
       "     ┌─────────┐┌─────────────┐┌─────────────────┐\n",
       "q_0: ┤ U1(0.2) ├┤ U2(0.1,0.2) ├┤ U3(0.1,0.2,0.3) ├\n",
       "     └─────────┘└─────────────┘└─────────────────┘"
      ]
     },
     "execution_count": 114,
     "metadata": {},
     "output_type": "execute_result"
    }
   ],
   "source": [
    "#Create a ciruit with one qubit\n",
    "qc1 = QuantumCircuit(1)\n",
    "\n",
    "#Perform an operation\n",
    "qc1.u1(0.2, 0)\n",
    "\n",
    "#Perform an operation\n",
    "qc1.u2(0.1,0.2, 0)\n",
    "\n",
    "#Perform an operation\n",
    "qc1.u3(0.1, 0.2, 0.3, 0)\n",
    "\n",
    "#Draw the circuit\n",
    "qc1.draw()"
   ]
  },
  {
   "cell_type": "code",
   "execution_count": 115,
   "metadata": {},
   "outputs": [
    {
     "data": {
      "text/html": [
       "<pre style=\"word-wrap: normal;white-space: pre;background: #fff0;line-height: 1.1;font-family: &quot;Courier New&quot;,Courier,monospace\">     ┌───────────────────────────┐\n",
       "q_0: ┤ U3(1.6629,0.6018,0.43905) ├\n",
       "     └───────────────────────────┘</pre>"
      ],
      "text/plain": [
       "     ┌───────────────────────────┐\n",
       "q_0: ┤ U3(1.6629,0.6018,0.43905) ├\n",
       "     └───────────────────────────┘"
      ]
     },
     "execution_count": 115,
     "metadata": {},
     "output_type": "execute_result"
    }
   ],
   "source": [
    "tqc1 = transpile(qc1)\n",
    "tqc1.draw()\n",
    "##If you check the output, you will see that the compiler optimized and merged all three operations together"
   ]
  },
  {
   "cell_type": "code",
   "execution_count": 117,
   "metadata": {},
   "outputs": [
    {
     "data": {
      "text/html": [
       "<pre style=\"word-wrap: normal;white-space: pre;background: #fff0;line-height: 1.1;font-family: &quot;Courier New&quot;,Courier,monospace\">     ┌─────────┐┌─────────┐ ░ ┌─────────────┐ ░ ┌─────────────────┐\n",
       "q_0: ┤ U1(0.2) ├┤ U1(0.2) ├─░─┤ U2(0.1,0.2) ├─░─┤ U3(0.1,0.2,0.3) ├\n",
       "     └─────────┘└─────────┘ ░ └─────────────┘ ░ └─────────────────┘</pre>"
      ],
      "text/plain": [
       "     ┌─────────┐┌─────────┐ ░ ┌─────────────┐ ░ ┌─────────────────┐\n",
       "q_0: ┤ U1(0.2) ├┤ U1(0.2) ├─░─┤ U2(0.1,0.2) ├─░─┤ U3(0.1,0.2,0.3) ├\n",
       "     └─────────┘└─────────┘ ░ └─────────────┘ ░ └─────────────────┘"
      ]
     },
     "execution_count": 117,
     "metadata": {},
     "output_type": "execute_result"
    }
   ],
   "source": [
    "qc2 = QuantumCircuit(1)\n",
    "\n",
    "#Perform an operation\n",
    "qc2.u1(0.2, 0)\n",
    "qc2.u1(0.2, 0)\n",
    "\n",
    "#Add a barrier\n",
    "qc2.barrier()\n",
    "\n",
    "#Perform an operation\n",
    "qc2.u2(0.1,0.2, 0)\n",
    "\n",
    "#Add a barrier\n",
    "qc2.barrier()\n",
    "\n",
    "#Perform an operation\n",
    "qc2.u3(0.1, 0.2, 0.3, 0)\n",
    "\n",
    "#Draw the circuit\n",
    "qc2.draw()\n"
   ]
  },
  {
   "cell_type": "code",
   "execution_count": 118,
   "metadata": {},
   "outputs": [
    {
     "data": {
      "text/html": [
       "<pre style=\"word-wrap: normal;white-space: pre;background: #fff0;line-height: 1.1;font-family: &quot;Courier New&quot;,Courier,monospace\">     ┌─────────┐ ░ ┌─────────────┐ ░ ┌─────────────────┐\n",
       "q_0: ┤ U1(0.4) ├─░─┤ U2(0.1,0.2) ├─░─┤ U3(0.1,0.2,0.3) ├\n",
       "     └─────────┘ ░ └─────────────┘ ░ └─────────────────┘</pre>"
      ],
      "text/plain": [
       "     ┌─────────┐ ░ ┌─────────────┐ ░ ┌─────────────────┐\n",
       "q_0: ┤ U1(0.4) ├─░─┤ U2(0.1,0.2) ├─░─┤ U3(0.1,0.2,0.3) ├\n",
       "     └─────────┘ ░ └─────────────┘ ░ └─────────────────┘"
      ]
     },
     "execution_count": 118,
     "metadata": {},
     "output_type": "execute_result"
    }
   ],
   "source": [
    "circuit2t = transpile(qc2)\n",
    "circuit2t.draw()\n",
    "\n",
    "##In this case, the compiler will not merge operations across barriers. Operations inside the barriers will still be merged.\n",
    "##The two operations before the first barrier are merged."
   ]
  },
  {
   "cell_type": "markdown",
   "metadata": {},
   "source": [
    "<b>Applying barrier on a specific qubit.</b><br>\n",
    "In case there are multiple qubits in a circuit, we can apply a barrier on a specifi qubit by passing the qubit number.\n",
    "The syntax is circuit.barrier(qubit_number). If qubit number is not passed, the barrier is applied on the entire circuit."
   ]
  },
  {
   "cell_type": "code",
   "execution_count": 140,
   "metadata": {},
   "outputs": [
    {
     "data": {
      "text/html": [
       "<pre style=\"word-wrap: normal;white-space: pre;background: #fff0;line-height: 1.1;font-family: &quot;Courier New&quot;,Courier,monospace\">        ┌───┐   ┌─────────┐\n",
       "q_0: ───┤ H ├───┤ U1(0.2) ├\n",
       "        ├───┤   └──┬───┬──┘\n",
       "q_1: ───┤ H ├──────┤ H ├───\n",
       "     ┌──┴───┴──┐┌──┴───┴──┐\n",
       "q_2: ┤ U1(0.5) ├┤ U1(0.3) ├\n",
       "     └─────────┘└─────────┘</pre>"
      ],
      "text/plain": [
       "        ┌───┐   ┌─────────┐\n",
       "q_0: ───┤ H ├───┤ U1(0.2) ├\n",
       "        ├───┤   └──┬───┬──┘\n",
       "q_1: ───┤ H ├──────┤ H ├───\n",
       "     ┌──┴───┴──┐┌──┴───┴──┐\n",
       "q_2: ┤ U1(0.5) ├┤ U1(0.3) ├\n",
       "     └─────────┘└─────────┘"
      ]
     },
     "execution_count": 140,
     "metadata": {},
     "output_type": "execute_result"
    }
   ],
   "source": [
    "#Create a circuit with 3 qubits\n",
    "qc3 = QuantumCircuit(3)\n",
    "\n",
    "#Perform some operation\n",
    "qc3.h(0)\n",
    "qc3.u1(0.2,0)\n",
    "\n",
    "#Perform some operation\n",
    "qc3.h(1)\n",
    "qc3.h(1)\n",
    "\n",
    "#Perform some operation\n",
    "qc3.u1(0.5,2)\n",
    "qc3.u1(0.3,2)\n",
    "\n",
    "#Draw the circuit\n",
    "qc3.draw()"
   ]
  },
  {
   "cell_type": "code",
   "execution_count": 141,
   "metadata": {},
   "outputs": [
    {
     "data": {
      "text/html": [
       "<pre style=\"word-wrap: normal;white-space: pre;background: #fff0;line-height: 1.1;font-family: &quot;Courier New&quot;,Courier,monospace\">        ┌───┐   ┌─────────┐ ░ ┌───┐\n",
       "q_0: ───┤ H ├───┤ U1(0.2) ├─░─┤ H ├\n",
       "        ├───┤   └──┬───┬──┘ ░ └───┘\n",
       "q_1: ───┤ H ├──────┤ H ├────░──────\n",
       "     ┌──┴───┴──┐┌──┴───┴──┐ ░      \n",
       "q_2: ┤ U1(0.5) ├┤ U1(0.3) ├─░──────\n",
       "     └─────────┘└─────────┘ ░      </pre>"
      ],
      "text/plain": [
       "        ┌───┐   ┌─────────┐ ░ ┌───┐\n",
       "q_0: ───┤ H ├───┤ U1(0.2) ├─░─┤ H ├\n",
       "        ├───┤   └──┬───┬──┘ ░ └───┘\n",
       "q_1: ───┤ H ├──────┤ H ├────░──────\n",
       "     ┌──┴───┴──┐┌──┴───┴──┐ ░      \n",
       "q_2: ┤ U1(0.5) ├┤ U1(0.3) ├─░──────\n",
       "     └─────────┘└─────────┘ ░      "
      ]
     },
     "execution_count": 141,
     "metadata": {},
     "output_type": "execute_result"
    }
   ],
   "source": [
    "#Apply a barrier on the entire circuit by omitting the qubit number\n",
    "qc3.barrier()\n",
    "\n",
    "#Perform some operation\n",
    "qc3.h(0)\n",
    "qc3.draw()"
   ]
  },
  {
   "cell_type": "code",
   "execution_count": 142,
   "metadata": {},
   "outputs": [
    {
     "data": {
      "text/html": [
       "<pre style=\"word-wrap: normal;white-space: pre;background: #fff0;line-height: 1.1;font-family: &quot;Courier New&quot;,Courier,monospace\">        ┌───┐   ┌─────────┐ ░ ┌───┐     \n",
       "q_0: ───┤ H ├───┤ U1(0.2) ├─░─┤ H ├─────\n",
       "        ├───┤   └──┬───┬──┘ ░ └─░─┘┌───┐\n",
       "q_1: ───┤ H ├──────┤ H ├────░───░──┤ H ├\n",
       "     ┌──┴───┴──┐┌──┴───┴──┐ ░   ░  └───┘\n",
       "q_2: ┤ U1(0.5) ├┤ U1(0.3) ├─░───────────\n",
       "     └─────────┘└─────────┘ ░           </pre>"
      ],
      "text/plain": [
       "        ┌───┐   ┌─────────┐ ░ ┌───┐     \n",
       "q_0: ───┤ H ├───┤ U1(0.2) ├─░─┤ H ├─────\n",
       "        ├───┤   └──┬───┬──┘ ░ └─░─┘┌───┐\n",
       "q_1: ───┤ H ├──────┤ H ├────░───░──┤ H ├\n",
       "     ┌──┴───┴──┐┌──┴───┴──┐ ░   ░  └───┘\n",
       "q_2: ┤ U1(0.5) ├┤ U1(0.3) ├─░───────────\n",
       "     └─────────┘└─────────┘ ░           "
      ]
     },
     "execution_count": 142,
     "metadata": {},
     "output_type": "execute_result"
    }
   ],
   "source": [
    "#Apply a barrier on qbit 2 specifically\n",
    "qc3.barrier(1)\n",
    "qc3.h(1)\n",
    "qc3.draw()\n",
    "#We can see the barrier being applied on on 2nd qubit"
   ]
  }
 ],
 "metadata": {
  "hide_input": false,
  "kernelspec": {
   "display_name": "Python 3",
   "language": "python",
   "name": "python3"
  },
  "language_info": {
   "codemirror_mode": {
    "name": "ipython",
    "version": 3
   },
   "file_extension": ".py",
   "mimetype": "text/x-python",
   "name": "python",
   "nbconvert_exporter": "python",
   "pygments_lexer": "ipython3",
   "version": "3.7.6"
  }
 },
 "nbformat": 4,
 "nbformat_minor": 4
}
