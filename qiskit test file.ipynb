{
 "cells": [
  {
   "cell_type": "markdown",
   "metadata": {},
   "source": [
    "## IBM Sample Test answers provided in Python"
   ]
  },
  {
   "cell_type": "code",
   "execution_count": null,
   "metadata": {},
   "outputs": [],
   "source": [
    "from qiskit import Aer, assemble, execute, QuantumCircuit, QuantumRegister\n",
    "from qiskit.visualization import plot_histogram, plot_bloch_vector"
   ]
  },
  {
   "cell_type": "markdown",
   "metadata": {},
   "source": [
    "# Practice Problem 1 (Sample qiskit exam):\n",
    "\n",
    "Which statement will create a quantum circuit with four quantum bits and four classical bits? \n",
    "\n",
    "A. QuantumCircuit(4, 4) <br/>\n",
    "B. QuantumCircuit(4) <br/>\n",
    "C. QuantumCircuit(QuantumRegister(4, 'qr0'), QuantumRegister(4, 'cr1')) <br/>\n",
    "D. QuantumCircuit([4, 4]) \n",
    "\n"
   ]
  },
  {
   "cell_type": "code",
   "execution_count": null,
   "metadata": {},
   "outputs": [],
   "source": [
    "# A Correct Answer jpc.  Provides quantum and conventional bits in parenthesis.\n",
    "qc = QuantumCircuit(4, 4)\n",
    "qc.draw() # added for display"
   ]
  },
  {
   "cell_type": "markdown",
   "metadata": {},
   "source": [
    "# Practice Problem 2:\n",
    "\n",
    "Given this code fragment, what is the probability that a measurement would result in |0> ? \n",
    "\n",
    "qc = QuantumCircuit(1) <br/>\n",
    "qc.ry(3 * math.pi/4, 0)\n"
   ]
  },
  {
   "cell_type": "code",
   "execution_count": null,
   "metadata": {},
   "outputs": [],
   "source": [
    "from math import sqrt, pi # Added to provide pi and sqrt jpc"
   ]
  },
  {
   "cell_type": "code",
   "execution_count": null,
   "metadata": {},
   "outputs": [],
   "source": [
    "qc = QuantumCircuit(1)\n",
    "qc.ry(3 * pi/4, 0)"
   ]
  },
  {
   "cell_type": "code",
   "execution_count": null,
   "metadata": {},
   "outputs": [],
   "source": [
    "svsim = Aer.get_backend('statevector_simulator') # Added for result display options jpc"
   ]
  },
  {
   "cell_type": "code",
   "execution_count": null,
   "metadata": {},
   "outputs": [],
   "source": [
    "# Added to provide results to compare multiple choice answers provided. jpc\n",
    "qobj = assemble(qc)\n",
    "result = svsim.run(qobj).result()\n",
    "out_state = result.get_statevector() # state vector\n",
    "print(out_state)"
   ]
  },
  {
   "cell_type": "code",
   "execution_count": null,
   "metadata": {},
   "outputs": [],
   "source": [
    "# probability of |0> = 0.38268342 ** 2 Answer C\n",
    "0.38268342 ** 2"
   ]
  },
  {
   "cell_type": "markdown",
   "metadata": {},
   "source": [
    "# Practice Problem 3: \n",
    "\n",
    "Assuming the fragment below, which three code fragments would produce the circuit illustrated? <br/> \n",
    "\n",
    "inp_reg = QuantumRegister(2, name='inp') <br/>\n",
    "ancilla = QuantumRegister(1, name='anc') <br/>\n",
    "qc = QuantumCircuit(inp_reg, ancilla) <br/>\n",
    "\n",
    "# Insert code here <br/>\n",
    "\n",
    "Inp0 \t---H---<br/>\n",
    "Inp1 \t---H---<br/>\n",
    "Anc0 \t---X---<br/>\n",
    "\n"
   ]
  },
  {
   "cell_type": "code",
   "execution_count": null,
   "metadata": {},
   "outputs": [],
   "source": [
    "# Run prior to A, B, and D below or copy and past prior to A, B, D Code. jpc\n",
    "inp_reg = QuantumRegister(2, name='inp')\n",
    "ancilla = QuantumRegister(1, name='anc')\n",
    "qc = QuantumCircuit(inp_reg, ancilla)"
   ]
  },
  {
   "cell_type": "code",
   "execution_count": null,
   "metadata": {},
   "outputs": [],
   "source": [
    "# A Correct\n",
    "qc.h(inp_reg)\n",
    "qc.x(ancilla)\n",
    "qc.draw()"
   ]
  },
  {
   "cell_type": "code",
   "execution_count": null,
   "metadata": {},
   "outputs": [],
   "source": [
    "# B Correct\n",
    "qc.h(inp_reg[0:2])\n",
    "qc.x(ancilla[0])\n",
    "qc.draw()"
   ]
  },
  {
   "cell_type": "code",
   "execution_count": null,
   "metadata": {},
   "outputs": [],
   "source": [
    "# D Correct\n",
    "qc.h(inp_reg[0])\n",
    "qc.h(inp_reg[1])\n",
    "qc.x(ancilla[0])\n",
    "qc.draw()"
   ]
  },
  {
   "cell_type": "markdown",
   "metadata": {},
   "source": [
    "# Practice Problem 4:\n",
    "\n",
    "Given an empty QuantumCircuit object, qc, with three qubits and three classical bits, which one of these code fragments would create this circuit? \n",
    "\n",
    "q 0 –M--------------- <br/>\n",
    "q 1 -------M--------- <br/>\n",
    "q 2 -------------M--- <br/>\n",
    "c3 ---0----1-----2------- <br/>\n",
    "\n",
    "A. qc.measure([0,1,2], [0,1,2]) <br/>\n",
    "B. qc.measure([0,0], [1,1], [2,2]) <br/>\n",
    "C. qc.measure_all() <br/>\n",
    "D. qc.measure(0,1,2)\n",
    "\n",
    "\n"
   ]
  },
  {
   "cell_type": "code",
   "execution_count": null,
   "metadata": {},
   "outputs": [],
   "source": [
    "# Provide Quantum and Conventional circuits for test dislpay. jpc\n",
    "qc = QuantumCircuit(3, 3)"
   ]
  },
  {
   "cell_type": "code",
   "execution_count": null,
   "metadata": {},
   "outputs": [],
   "source": [
    "# Answer A Correct\n",
    "qc.measure([0,1,2], [0,1,2])  # Provides correct display as requested\n",
    "qc.draw()"
   ]
  },
  {
   "cell_type": "markdown",
   "metadata": {},
   "source": [
    "# Practice Problem 5:\n",
    "\n",
    "Which code fragment will produce a maximally entangled, or Bell, state?"
   ]
  },
  {
   "cell_type": "code",
   "execution_count": null,
   "metadata": {},
   "outputs": [],
   "source": [
    "# Answer A: Correct jpc\n",
    "bell = QuantumCircuit(2)  # A provides 1/sqrt(2)(|01> + |10)\n",
    "bell.h(0)\n",
    "bell.x(1)\n",
    "bell.cx(0, 1)\n",
    "bell.draw() # Added to provide result"
   ]
  },
  {
   "cell_type": "code",
   "execution_count": null,
   "metadata": {},
   "outputs": [],
   "source": [
    "# Let's get the result: jpc\n",
    "svsim = Aer.get_backend('statevector_simulator')\n",
    "qobj = assemble(bell)\n",
    "result = svsim.run(qobj).result()\n",
    "# Print the statevector neatly: jpc\n",
    "from qiskit_textbook.tools import array_to_latex\n",
    "final_state = result.get_statevector()\n",
    "array_to_latex(final_state, pretext=\"\\\\text{Statevector = }\")"
   ]
  },
  {
   "cell_type": "code",
   "execution_count": null,
   "metadata": {},
   "outputs": [],
   "source": [
    "bell = QuantumCircuit(2) # B provides 1/sqrt(2)(|10> + |11)\n",
    "bell.cx(0, 1)\n",
    "bell.h(0)\n",
    "bell.x(1)\n",
    "bell.draw() # Added to provide result"
   ]
  },
  {
   "cell_type": "code",
   "execution_count": null,
   "metadata": {},
   "outputs": [],
   "source": [
    "# Let's get the result:\n",
    "qobj = assemble(bell)\n",
    "result = svsim.run(qobj).result()\n",
    "# Print the statevector neatly:\n",
    "final_state = result.get_statevector()\n",
    "array_to_latex(final_state, pretext=\"\\\\text{Statevector = }\")"
   ]
  },
  {
   "cell_type": "code",
   "execution_count": null,
   "metadata": {},
   "outputs": [],
   "source": [
    "bell = QuantumCircuit(2) # C provides 1/sqrt(2)(|10> - |11)\n",
    "bell.h(0)\n",
    "bell.x(1)\n",
    "bell.cz(0, 1)\n",
    "bell.draw() # Added to provide result"
   ]
  },
  {
   "cell_type": "code",
   "execution_count": null,
   "metadata": {},
   "outputs": [],
   "source": [
    "# Let's get the result:\n",
    "qobj = assemble(bell)\n",
    "result = svsim.run(qobj).result()\n",
    "# Print the statevector neatly:\n",
    "final_state = result.get_statevector()\n",
    "array_to_latex(final_state, pretext=\"\\\\text{Statevector = }\")"
   ]
  },
  {
   "cell_type": "code",
   "execution_count": null,
   "metadata": {},
   "outputs": [],
   "source": [
    "bell = QuantumCircuit(2)  # D provides |00>\n",
    "bell.h(0)\n",
    "bell.h(0)\n",
    "bell.draw() # Added to provide result"
   ]
  },
  {
   "cell_type": "code",
   "execution_count": null,
   "metadata": {},
   "outputs": [],
   "source": [
    "# Let's get the result:\n",
    "qobj = assemble(bell)\n",
    "result = svsim.run(qobj).result()\n",
    "# Print the statevector neatly:\n",
    "final_state = result.get_statevector()\n",
    "array_to_latex(final_state, pretext=\"\\\\text{Statevector = }\")"
   ]
  },
  {
   "cell_type": "code",
   "execution_count": null,
   "metadata": {},
   "outputs": [],
   "source": [
    "print(final_state)"
   ]
  },
  {
   "cell_type": "markdown",
   "metadata": {},
   "source": [
    " # Practice Problem 6. <br/>\n",
    " \n",
    " Answer A (qc.h(0) hadamard and C (qc.ry(pi / 2, 0))\n",
    "\n",
    "Given this code, which two inserted code fragments result in the state vector represented by this Bloch sphere?\n",
    "\n",
    "qc = QuantumCircuit(1,1) <br/>\n",
    "\n",
    "A. qc.h(0) <br/>\n",
    "B. qc.rx(math.pi / 2, 0) <br/>\n",
    "C. qc.ry(math.pi / 2, 0) <br/>\n",
    "D. qc.rx(math.pi / 2, 0) <br/>\n",
    "qc.rz(-math.pi / 2, 0) <br/>\n",
    "E. qc.ry(math.pi, 0) <br/>\n",
    "\n",
    "simulator = Aer.get_backend('statevector_simulator') <br/>\n",
    "job = execute(qc, simulator) <br/>\n",
    "result = job.result() <br/>\n",
    "outputstate = result.get_statevector(qc) <br/>\n",
    "plot_bloch_multivector(outputstate) <br/>\n"
   ]
  },
  {
   "cell_type": "code",
   "execution_count": null,
   "metadata": {},
   "outputs": [],
   "source": [
    "# install for visualizations\n",
    "import numpy as np\n",
    "from qiskit import QuantumCircuit, IBMQ, transpile\n",
    "from qiskit.visualization import plot_histogram, plot_gate_map, plot_circuit_layout, plot_bloch_vector, plot_bloch_multivector\n",
    "from qiskit.tools.monitor import job_monitor\n",
    "import matplotlib.pyplot as plt\n",
    "from mpl_toolkits.mplot3d import Axes3D\n",
    "%matplotlib inline"
   ]
  },
  {
   "cell_type": "code",
   "execution_count": null,
   "metadata": {},
   "outputs": [],
   "source": [
    "qc = QuantumCircuit(1,1) # A Correct along with option C\n",
    "qc.h(0)\n",
    "\n",
    "simulator = Aer.get_backend('statevector_simulator')\n",
    "job = execute(qc, simulator)\n",
    "result = job.result()\n",
    "outputstate = result.get_statevector(qc)\n",
    "plot_bloch_multivector(outputstate)"
   ]
  },
  {
   "cell_type": "code",
   "execution_count": null,
   "metadata": {},
   "outputs": [],
   "source": [
    "qc = QuantumCircuit(1,1) # B replaced math.pi with pi \n",
    "qc.rx(pi / 2, 0)\n",
    "\n",
    "simulator = Aer.get_backend('statevector_simulator')\n",
    "job = execute(qc, simulator)\n",
    "result = job.result()\n",
    "outputstate = result.get_statevector(qc)\n",
    "plot_bloch_multivector(outputstate)"
   ]
  },
  {
   "cell_type": "code",
   "execution_count": null,
   "metadata": {},
   "outputs": [],
   "source": [
    "qc = QuantumCircuit(1,1) # C  Also Correct\n",
    "qc.ry(pi / 2, 0)\n",
    "\n",
    "simulator = Aer.get_backend('statevector_simulator')\n",
    "job = execute(qc, simulator)\n",
    "result = job.result()\n",
    "outputstate = result.get_statevector(qc)\n",
    "plot_bloch_multivector(outputstate)"
   ]
  },
  {
   "cell_type": "code",
   "execution_count": null,
   "metadata": {},
   "outputs": [],
   "source": [
    "qc = QuantumCircuit(1,1) # D replaced math.pi with pi\n",
    "qc.rx(pi / 2, 0)\n",
    "qc.rz(-pi / 2, 0)\n",
    "\n",
    "\n",
    "simulator = Aer.get_backend('statevector_simulator')\n",
    "job = execute(qc, simulator)\n",
    "result = job.result()\n",
    "outputstate = result.get_statevector(qc)\n",
    "plot_bloch_multivector(outputstate)"
   ]
  },
  {
   "cell_type": "code",
   "execution_count": null,
   "metadata": {},
   "outputs": [],
   "source": [
    "qc = QuantumCircuit(1,1) # E  replaced math.pi with pi\n",
    "qc.ry(pi, 0)\n",
    "\n",
    "simulator = Aer.get_backend('statevector_simulator')\n",
    "job = execute(qc, simulator)\n",
    "result = job.result()\n",
    "outputstate = result.get_statevector(qc)\n",
    "plot_bloch_multivector(outputstate)"
   ]
  },
  {
   "cell_type": "markdown",
   "metadata": {},
   "source": [
    "# Practice Problem 7:\n",
    "    \n",
    "    \n",
    "S-gate is a Qiskit phase gate with what value of the phase parameter? \n",
    "\n",
    "A. π/4 <br/>\n",
    "B. π/2 Answer <br/>\n",
    "C. π/8 <br/>\n",
    "D. π   \n"
   ]
  },
  {
   "cell_type": "markdown",
   "metadata": {},
   "source": [
    "From the qiskit textbook: https://qiskit.org/textbook/ch-states/single-qubit-gates.html#istgates\n",
    "\n",
    "The S-gate (sometimes known as the √Z -gate), this is an Rϕ-gate with ϕ = **π/2**\n",
    " "
   ]
  },
  {
   "cell_type": "markdown",
   "metadata": {},
   "source": [
    "# Practice Problem 8:\n",
    "\n",
    "Which two code fragments, when inserted into the code below, will produce the statevector shown in the output? \n",
    "\n",
    "from qiskit import QuantumCircuit, Aer, execute <br />\n",
    "from math import sqrt <br />\n",
    "\n",
    "qc = QuantumCircuit(2) \n"
   ]
  },
  {
   "cell_type": "code",
   "execution_count": null,
   "metadata": {},
   "outputs": [],
   "source": [
    "from qiskit import QuantumCircuit, Aer, execute\n",
    "from math import sqrt"
   ]
  },
  {
   "cell_type": "code",
   "execution_count": null,
   "metadata": {},
   "outputs": [],
   "source": [
    "qc = QuantumCircuit(2)"
   ]
  },
  {
   "cell_type": "code",
   "execution_count": null,
   "metadata": {},
   "outputs": [],
   "source": [
    "# Answer A:  Correct\n",
    "v = [1/sqrt(2), 0, 0, 1/sqrt(2)]\n",
    "qc.initialize(v, [0,1])\n",
    "print(qc)"
   ]
  },
  {
   "cell_type": "code",
   "execution_count": null,
   "metadata": {},
   "outputs": [],
   "source": [
    "simulator = Aer.get_backend('statevector_simulator')\n",
    "result = execute(qc, simulator).result()\n",
    "statevector = result.get_statevector()\n",
    "print(statevector)\n",
    "1/sqrt(2)"
   ]
  },
  {
   "cell_type": "code",
   "execution_count": null,
   "metadata": {},
   "outputs": [],
   "source": [
    "# Answer B: Also correct\n",
    "qc.h(0)\n",
    "qc.cx(0,1)\n",
    "print(qc)"
   ]
  },
  {
   "cell_type": "code",
   "execution_count": null,
   "metadata": {},
   "outputs": [],
   "source": [
    "simulator = Aer.get_backend('statevector_simulator')\n",
    "result = execute(qc, simulator).result()\n",
    "statevector = result.get_statevector()\n",
    "print(statevector)\n",
    "1/sqrt(2)"
   ]
  },
  {
   "cell_type": "code",
   "execution_count": null,
   "metadata": {},
   "outputs": [],
   "source": [
    "# Answer C: Incorrect; result [0.+0.j 0.+0.j 1.+0.j 0.+0.j]\n",
    "v1, v2 = [1,0], [0,1]\n",
    "qc.initialize(v1, 0)\n",
    "qc.initialize(v2, 1)\n",
    "print(qc)"
   ]
  },
  {
   "cell_type": "code",
   "execution_count": null,
   "metadata": {},
   "outputs": [],
   "source": [
    "simulator = Aer.get_backend('statevector_simulator')\n",
    "result = execute(qc, simulator).result()\n",
    "statevector = result.get_statevector()\n",
    "print(statevector)\n",
    "1/sqrt(2)"
   ]
  },
  {
   "cell_type": "code",
   "execution_count": null,
   "metadata": {},
   "outputs": [],
   "source": [
    "# Answer D: Incorrect; result [1.+0.j 0.+0.j 0.+0.j 0.+0.j]\n",
    "qc.cx(0,1)\n",
    "qc.measure_all()\n",
    "print(qc)"
   ]
  },
  {
   "cell_type": "code",
   "execution_count": null,
   "metadata": {},
   "outputs": [],
   "source": [
    "simulator = Aer.get_backend('statevector_simulator')\n",
    "result = execute(qc, simulator).result()\n",
    "statevector = result.get_statevector()\n",
    "print(statevector)"
   ]
  },
  {
   "cell_type": "code",
   "execution_count": null,
   "metadata": {},
   "outputs": [],
   "source": [
    "#Answer E: Incorrect; result [1.+0.j 0.+0.j 0.+0.j 0.+0.j]\n",
    "qc.h(0)\n",
    "qc.h(1)\n",
    "qc.measure_all()\n",
    "print(qc)"
   ]
  },
  {
   "cell_type": "code",
   "execution_count": null,
   "metadata": {},
   "outputs": [],
   "source": [
    "simulator = Aer.get_backend('statevector_simulator')\n",
    "result = execute(qc, simulator).result()\n",
    "statevector = result.get_statevector()\n",
    "print(statevector)"
   ]
  },
  {
   "cell_type": "code",
   "execution_count": null,
   "metadata": {},
   "outputs": [],
   "source": []
  },
  {
   "cell_type": "markdown",
   "metadata": {},
   "source": [
    "# Practice Problem 9:\n",
    "\n",
    "Which code fragment will produce a multi-qubit gate other than a CNOT ?\n",
    "\n",
    "A. qc.cx(0,1) <br />\n",
    "B. qc.cnot(0,1) <br />\n",
    "C. qc.mct([0],1) <br /> \n",
    "D. qc.cz(0,1)"
   ]
  },
  {
   "cell_type": "code",
   "execution_count": null,
   "metadata": {},
   "outputs": [],
   "source": [
    "# Preparation for testing 9\n",
    "qc = QuantumCircuit(2)"
   ]
  },
  {
   "cell_type": "code",
   "execution_count": null,
   "metadata": {},
   "outputs": [],
   "source": [
    "# Preparation for testing 9\n",
    "qc = QuantumCircuit(2)\n",
    "\n",
    "# Answer A:  Incorrect; qubit one in zero will not effect qubit 1, same a CNOT\n",
    "qc.cx(0,1)\n",
    "qc.draw()"
   ]
  },
  {
   "cell_type": "code",
   "execution_count": null,
   "metadata": {},
   "outputs": [],
   "source": [
    "# Preparation for testing 9\n",
    "qc = QuantumCircuit(2)\n",
    "\n",
    "# Answer B: Incorrect; as other than CNOT mentioned in question\n",
    "qc.cnot(0,1)\n",
    "qc.draw()"
   ]
  },
  {
   "cell_type": "code",
   "execution_count": null,
   "metadata": {},
   "outputs": [],
   "source": [
    "# Preparation for testing 9\n",
    "qc = QuantumCircuit(2)\n",
    "\n",
    "# Answer C:  Incorrect; I'm not sure on this one as I am unable to find MCT.  (output same as CNOT)\n",
    "qc.mct([0],1)\n",
    "qc.draw()"
   ]
  },
  {
   "cell_type": "code",
   "execution_count": null,
   "metadata": {},
   "outputs": [],
   "source": [
    "# Preparation for testing 9\n",
    "qc = QuantumCircuit(2)\n",
    "\n",
    "# Answer D: Correct Answer\n",
    "qc.cz(0,1)\n",
    "qc.draw()\n",
    "print(qc)"
   ]
  },
  {
   "cell_type": "code",
   "execution_count": null,
   "metadata": {},
   "outputs": [],
   "source": [
    "simulator = Aer.get_backend('statevector_simulator')\n",
    "result = execute(qc, simulator).result()\n",
    "statevector = result.get_statevector()\n",
    "print(statevector)"
   ]
  },
  {
   "cell_type": "markdown",
   "metadata": {},
   "source": [
    "# Practice Problem 10:\n",
    "\n",
    "Which code fragment will produce a multi-qubit gate other than a Toffoli? \n",
    "\n",
    "A. qc.ccx(0,1,2) <br />\n",
    "B. qc.mct([0,1], 2) <br />\n",
    "C. from qiskit.circuit.library import CXGate <br />\n",
    "&nbsp;&nbsp;&nbsp;    ccx = CXGate().control() <br />\n",
    "&nbsp;&nbsp;&nbsp;    qc.append(ccx, [0,1,2]) <br />\n",
    "D. qc.cry(0,1,2)\n"
   ]
  },
  {
   "cell_type": "code",
   "execution_count": null,
   "metadata": {},
   "outputs": [],
   "source": [
    "# Preparation for testing 10\n",
    "qc = QuantumCircuit(2)\n",
    "\n",
    "# Answer A:  CCX gate is same as Tiffoli\n",
    "qc = QuantumCircuit(3)\n",
    "qc.ccx(0,1,2)\n",
    "qc.draw()"
   ]
  },
  {
   "cell_type": "code",
   "execution_count": null,
   "metadata": {},
   "outputs": [],
   "source": [
    "# Preparation for testing 10\n",
    "qc = QuantumCircuit(2)\n",
    "\n",
    "# Answer B: Incorrect; essentially same output as CCX which is same as Tiffoli.  Still uncertain about mct gate/action (JPC)\n",
    "qc = QuantumCircuit(3)\n",
    "qc.mct([0,1], 2)\n",
    "qc.draw()"
   ]
  },
  {
   "cell_type": "code",
   "execution_count": null,
   "metadata": {},
   "outputs": [],
   "source": [
    "# Preparation for testing 10\n",
    "qc = QuantumCircuit(2)\n",
    "\n",
    "# Answer C: Incorrect; Not familier with this process and unable to provide result.  Incorrect on answer grid (JPC)\n",
    "from qiskit.circuit.library import CXGate\n",
    "qc = QuantumCircuit(3) ## Added for to provide result jpc\n",
    "ccx = CXGate().control()\n",
    "qc.append(ccx, [0,1,2])\n",
    "qc.draw() ## Added to provide result jpc"
   ]
  },
  {
   "cell_type": "code",
   "execution_count": null,
   "metadata": {},
   "outputs": [],
   "source": [
    "# Preparation for testing 10\n",
    "qc = QuantumCircuit(2)\n",
    "\n",
    "# Answer D:  Correct answer on answer grid. possible mistake in draw? (JPC)\n",
    "qc = QuantumCircuit(3)\n",
    "qc.cry(0,1,2)\n",
    "qc.draw()"
   ]
  },
  {
   "cell_type": "code",
   "execution_count": null,
   "metadata": {},
   "outputs": [],
   "source": [
    "simulator = Aer.get_backend('statevector_simulator')\n",
    "result = execute(qc, simulator).result()\n",
    "statevector = result.get_statevector()\n",
    "print(statevector)"
   ]
  },
  {
   "cell_type": "markdown",
   "metadata": {},
   "source": [
    "# Practice Problem 11:\n",
    "\n",
    "Which two options would place a barrier across all qubits to the QuantumCircuit below? \n",
    "\n",
    "qc = QuantumCircuit(3,3) \n",
    "\n",
    "A. qc.barrier(qc) <br />\n",
    "B. qc.barrier([0,1,2]) <br />\n",
    "C. qc.barrier() <br />\n",
    "D. qc.barrier(3) <br />\n",
    "E. qc.barrier_all()"
   ]
  },
  {
   "cell_type": "code",
   "execution_count": null,
   "metadata": {},
   "outputs": [],
   "source": [
    "#Answer A:\n",
    "qc = QuantumCircuit(3,3)\n",
    "qc.barrier(qc)\n",
    "qc.draw()"
   ]
  },
  {
   "cell_type": "code",
   "execution_count": null,
   "metadata": {},
   "outputs": [],
   "source": [
    "#Answer B: Correct\n",
    "qc = QuantumCircuit(3,3)\n",
    "qc.barrier([0,1,2])\n",
    "qc.draw()"
   ]
  },
  {
   "cell_type": "code",
   "execution_count": null,
   "metadata": {},
   "outputs": [],
   "source": [
    "#Answer C: Correct\n",
    "qc = QuantumCircuit(3,3)\n",
    "qc.barrier()\n",
    "qc.draw()"
   ]
  },
  {
   "cell_type": "code",
   "execution_count": null,
   "metadata": {},
   "outputs": [],
   "source": [
    "#Answer C: Incorrect with Error results.\n",
    "qc = QuantumCircuit(3,3)\n",
    "qc.barrier(3)\n",
    "qc.draw()"
   ]
  },
  {
   "cell_type": "code",
   "execution_count": null,
   "metadata": {},
   "outputs": [],
   "source": [
    "#Answer C: Incorrect; no object barrier_all (possibly not imported (JPC))\n",
    "qc = QuantumCircuit(3,3)\n",
    "qc.barrier_all()\n",
    "qc.draw()"
   ]
  },
  {
   "cell_type": "markdown",
   "metadata": {},
   "source": [
    "# Practice Problem 12:\n",
    "\n",
    "What code fragment codes the equivalent circuit if you remove the barrier in the following QuantumCircuit? \n",
    "\n",
    "q  H --- T --- Barrier --- T --- H --- Measure\n",
    "\n",
    "c  -------------------------------------------|---"
   ]
  },
  {
   "cell_type": "code",
   "execution_count": null,
   "metadata": {},
   "outputs": [],
   "source": [
    "# Answer A: Correct;  An S gate is sqrt(z) and t is quadroot(z), so s is sqrt(t) and equal to t^2 \n",
    "# or two t gates with barrier removed\n",
    "\n",
    "qc = QuantumCircuit(1,1)\n",
    "qc.h(0)\n",
    "qc.s(0)\n",
    "qc.h(0)\n",
    "qc.measure(0,0)\n",
    "qc.draw() # Provided for display jpc"
   ]
  },
  {
   "cell_type": "code",
   "execution_count": null,
   "metadata": {},
   "outputs": [],
   "source": [
    "# Answer B:  Incorrect; no gates, just a measurement\n",
    "qc = QuantumCircuit(1,1)\n",
    "qc.measure(0,0)\n",
    "qc.draw()"
   ]
  },
  {
   "cell_type": "code",
   "execution_count": null,
   "metadata": {},
   "outputs": [],
   "source": [
    "#Answer C:   Incorrect\n",
    "qc = QuantumCircuit(1,1)\n",
    "qc.h(0)\n",
    "qc.t(0)\n",
    "qc.tdg(0)\n",
    "qc.h(0)\n",
    "qc.measure(0,0)\n",
    "qc.draw()"
   ]
  },
  {
   "cell_type": "code",
   "execution_count": null,
   "metadata": {},
   "outputs": [],
   "source": [
    "# Answer D: Incorrect\n",
    "qc = QuantumCircuit(1,1)\n",
    "qc.h(0)\n",
    "qc.z(0)\n",
    "qc.h(0)\n",
    "qc.measure(0,0)\n",
    "qc.draw()"
   ]
  },
  {
   "cell_type": "markdown",
   "metadata": {},
   "source": [
    "# Practice Problem 13:\n",
    "\n",
    "Given the following code, what is the depth of the circuit? \n",
    "\n",
    "qc = QuantumCircuit(2,2)<br />\n",
    "qc.h(0)<br />\n",
    "qc.barrier(0)<br />\n",
    "qc.cx(0,1)<br />\n",
    "qc.barrier([0,1]) "
   ]
  },
  {
   "cell_type": "code",
   "execution_count": null,
   "metadata": {},
   "outputs": [],
   "source": [
    "# Provide Depth of circuit (2,3,4,5) Answer = 2\n",
    "qc = QuantumCircuit(2,2)\n",
    "qc.h(0)  # step 1 jpc\n",
    "qc.barrier(0)\n",
    "qc.cx(0,1) # step 2 jpc\n",
    "qc.barrier([0,1])\n",
    "qc.draw()"
   ]
  },
  {
   "cell_type": "markdown",
   "metadata": {},
   "source": [
    "# Practice Problem 14:\n",
    "\n",
    "Which code snippet would execute a circuit given these parameters? \n",
    "\n",
    "1) • Measure the circuit 1024 times, <br/>\n",
    "2) • use the QASM simulator, <br/>\n",
    "3) • and use a coupling map that connects three qubits linearly\n",
    " \n",
    "qc = QuantumCircuit(3) \n",
    "\n",
    "## Insert code fragment here \n",
    "\n",
    "result = job.result() \n"
   ]
  },
  {
   "cell_type": "code",
   "execution_count": null,
   "metadata": {},
   "outputs": [],
   "source": [
    "# Answer A: Correct Answer.  I'm not familier with shots as yet; I believe shots is correct over repeat. (jpc)\n",
    "qc = QuantumCircuit(3)\n",
    "\n",
    "qasm_sim = Aer.get_backend('qasm_simulator')\n",
    "couple_map = [[0,1],[1,2]]\n",
    "job = execute(qc,backend=qasm_sim,shots=1024,coupling_map=couple_map)\n",
    "\n",
    "result = job.result()"
   ]
  },
  {
   "cell_type": "code",
   "execution_count": null,
   "metadata": {},
   "outputs": [],
   "source": [
    "#Answer B: Icorrect simulator ibmq\n",
    "qc = QuantumCircuit(3)\n",
    "\n",
    "qasm_sim = Aer.get_backend('ibmq_simulator')\n",
    "couple_map = [[0,1],[0,2]]\n",
    "job = execute(qc,loop=1024,coupling_map=couple_map)\n",
    "\n",
    "result = job.result()"
   ]
  },
  {
   "cell_type": "code",
   "execution_count": null,
   "metadata": {},
   "outputs": [],
   "source": [
    "# Answer C: Incorrect accoding to answer grid. I believe it is the repeat being used in place shots (jpc)\n",
    "qc = QuantumCircuit(3)\n",
    "\n",
    "qasm_sim = Aer.get_backend('qasm_simulator')\n",
    "couple_map = [[0,1],[1,2]]\n",
    "job = execute(qc,backend=qasm_sim,repeat=1024,coupling_map=couple_map)\n",
    "\n",
    "result = job.result()"
   ]
  },
  {
   "cell_type": "code",
   "execution_count": null,
   "metadata": {},
   "outputs": [],
   "source": [
    "# Answer D: Incorrect with qc following keyword argument in job.  Error\n",
    "qc = QuantumCircuit(3)\n",
    "\n",
    "qasm_sim = Aer.get_backend('qasm_simulator')\n",
    "couple_map = [[0,1],[1,2]]\n",
    "job = execute(backend=qasm_sim,qc,shot=1024,coupling_map=couple_map)\n",
    "\n",
    "result = job.result()"
   ]
  },
  {
   "cell_type": "markdown",
   "metadata": {},
   "source": [
    "# Practice problem 15:\n",
    "\n",
    "Which of these would execute a circuit on a set of qubits which are coupled in a custom way? \n",
    "\n",
    "from qiskit import QuantumCircuit, execute, BasicAer <br/>\n",
    "backend = BasicAer.get_backend('qasm_simulator') <br/>\n",
    "qc = QuantumCircuit(3) \n",
    "\n",
    "A. execute(qc, backend, shots=1024, coupling_map=[[0,1], [1,2]]) <br/>\n",
    "B. execute(qc, backend, shots=1024, custom_topology=[[0,1],[2,3]] <br/>\n",
    "C. execute(qc, backend, shots=1024, device=\"qasm_simulator\", mode=\"custom\") <br/>\n",
    "D. execute(qc, backend, mode=\"custom\") \n"
   ]
  },
  {
   "cell_type": "code",
   "execution_count": null,
   "metadata": {},
   "outputs": [],
   "source": [
    "#Answer A:  This is the correct answer according to the answer key.  This is beyond my knowledge at this point. (jpc)\n",
    "from qiskit import QuantumCircuit, execute, BasicAer\n",
    "backend = BasicAer.get_backend('qasm_simulator')\n",
    "qc = QuantumCircuit(3)\n",
    "execute(qc,backend,shots=1024, coupling_map=[[0,1],[1,2]])"
   ]
  },
  {
   "cell_type": "code",
   "execution_count": null,
   "metadata": {},
   "outputs": [],
   "source": [
    "# Answer B: Incorrect\n",
    "from qiskit import QuantumCircuit, execute, BasicAer\n",
    "backend = BasicAer.get_backend('qasm_simulator')\n",
    "qc = QuantumCircuit(3)\n",
    "execute(qc,backend,shots=1024, custom_topology=[[0,1],[2,3]])"
   ]
  },
  {
   "cell_type": "code",
   "execution_count": null,
   "metadata": {},
   "outputs": [],
   "source": [
    "# Answer B: Incorrect\n",
    "from qiskit import QuantumCircuit, execute, BasicAer\n",
    "backend = BasicAer.get_backend('qasm_simulator')\n",
    "qc = QuantumCircuit(3)\n",
    "execute(qc,backend,shots=1024, device=\"qasm_simulator\", mode=\"custom\")"
   ]
  },
  {
   "cell_type": "code",
   "execution_count": null,
   "metadata": {},
   "outputs": [],
   "source": [
    "# Answer B: Incorrect\n",
    "from qiskit import QuantumCircuit, execute, BasicAer\n",
    "backend = BasicAer.get_backend('qasm_simulator')\n",
    "qc = QuantumCircuit(3)\n",
    "execute(qc,backend,mode=\"custom\")"
   ]
  },
  {
   "cell_type": "markdown",
   "metadata": {},
   "source": [
    "# Practice Problem 16:\n",
    "\n",
    "Which three simulators are available in BasicAer? \n",
    "\n",
    "A. qasm_simulator <br/>\n",
    "B. basic_qasm_simulator <br/>\n",
    "C. statevector_simulator <br/>\n",
    "D. unitary_simulator <br/>\n",
    "E. quantum_simulator <br/>\n",
    "F. quantum_circuit_simulator <br/>"
   ]
  },
  {
   "cell_type": "code",
   "execution_count": null,
   "metadata": {},
   "outputs": [],
   "source": [
    "# Answer A, C, and D are provided below.\n",
    "BasicAer.backends()"
   ]
  },
  {
   "cell_type": "markdown",
   "metadata": {},
   "source": [
    "# Practice Problem 17:\n",
    "\n",
    "Which line of code would assign a statevector simulator object to the variable backend ? \n",
    "\n",
    "A. backend = BasicAer.StatevectorSimulatorPy() <br/>\n",
    "B. backend = BasicAer.get_backend('statevector_simulator') <br/>\n",
    "C. backend = BasicAer.StatevectorSimulatorPy().name() <br/>\n",
    "D. backend = BasicAer.get_back('statevector_simulator') \n"
   ]
  },
  {
   "cell_type": "code",
   "execution_count": null,
   "metadata": {},
   "outputs": [],
   "source": [
    "#backend = BasicAer.StatevectorSimulatorPy()  # Answer A: incorrect\n",
    "backend = BasicAer.get_backend('statevector_simulator') # Answer B: Correct\n",
    "#backend = BasicAer.StatevectorSimulatorPy().name() # Answer C: Incorrect\n",
    "#backend = BasicAer.get_back('statevector_simulator') # Answer D: Incorrect"
   ]
  },
  {
   "cell_type": "markdown",
   "metadata": {},
   "source": [
    "# Practice Problem 18\n",
    "\n",
    "Which code fragment would yield an operator that represents a single-qubit X gate? \n",
    "\n",
    "A. op = Operator.Xop(0) <br/>\n",
    "B. op = Operator([[0,1]]) <br/>\n",
    "C. qc = QuantumCircuit(1) <br/>\n",
    "&nbsp;&nbsp;&nbsp; qc.x(0) <br/>\n",
    "&nbsp;&nbsp;&nbsp; op = Operator(qc) <br/>\n",
    "D. op = Operator([[1,0,0,1]])\n"
   ]
  },
  {
   "cell_type": "code",
   "execution_count": null,
   "metadata": {},
   "outputs": [],
   "source": [
    "# Answer C\n",
    "qc = QuantumCircuit(1)\n",
    "qc.x(0)\n",
    "op = Operator(qc)"
   ]
  },
  {
   "cell_type": "markdown",
   "metadata": {},
   "source": [
    "# Practice Problem 19:\n",
    "\n",
    "What would be the fidelity result(s) for these two operators, which differ only by global phase? \n",
    "\n",
    "op_a = Operator(XGate()) <br/>\n",
    "op_b = numpy.exp(1j * 0.5) * Operator(XGate()) \n"
   ]
  },
  {
   "cell_type": "code",
   "execution_count": null,
   "metadata": {},
   "outputs": [],
   "source": [
    "# Going to have to figure out what has to be imported.  (jpc)\n",
    "op_a = Operator(XGate())\n",
    "op_b = numpy.exp(1j * 0.5) * Operator(XGate())"
   ]
  },
  {
   "cell_type": "markdown",
   "metadata": {},
   "source": [
    "### Answers: C is the correct answer on the answer grid\n",
    "(I am not familier with qiskit fidelity() to provide insight. jpc)\n",
    "\n",
    "A: state_fidelity() of 1.0 <br/>\n",
    "B: state_fidelity() and average_gate_fidelity() of 1.0 <br/>\n",
    "C: average_gate_fidelity() and process_fidelity() of 1.0 <br/>\n",
    "D: state_fidelity(), average_gate_fidelity() and process_fidelity() 0f 1.0"
   ]
  },
  {
   "cell_type": "markdown",
   "metadata": {},
   "source": [
    "# Practice Problem 20:\n",
    "\n",
    "Given this code fragment, which output fits most closely with the measurement probability distribution? \n",
    "\n",
    "qc = QuantumCircuit(2, 2) <br/>\n",
    "qc.x(0) <br/>\n",
    "qc.measure([0,1], [0,1]) <br/>\n",
    "simulator = Aer.get_backend('qasm_simulator') <br/>\n",
    "result = execute(qc, simulator, shots=1000).result() counts = result.get_counts(qc) <br/>\n",
    "print(counts) <br/>\n",
    "\n",
    "A. {'00': 1000} <br/>\n",
    "B. {'01': 1000} <br/>\n",
    "C. {'10': 1000} <br/>\n",
    "D. {'11': 1000}\n"
   ]
  },
  {
   "cell_type": "code",
   "execution_count": null,
   "metadata": {},
   "outputs": [],
   "source": [
    "# With the high count on 01, my selection would be B. {'01':1000}\n",
    "qc = QuantumCircuit(2,2)\n",
    "qc.h(0)\n",
    "qc.measure([0,1],[0,1])\n",
    "simulator = Aer.get_backend('qasm_simulator')\n",
    "result = execute(qc, simulator, shots=1000).result()\n",
    "counts = result.get_counts(qc)\n",
    "print(counts)"
   ]
  },
  {
   "cell_type": "code",
   "execution_count": null,
   "metadata": {},
   "outputs": [],
   "source": []
  }
 ],
 "metadata": {
  "kernelspec": {
   "display_name": "Python 3",
   "language": "python",
   "name": "python3"
  },
  "language_info": {
   "codemirror_mode": {
    "name": "ipython",
    "version": 3
   },
   "file_extension": ".py",
   "mimetype": "text/x-python",
   "name": "python",
   "nbconvert_exporter": "python",
   "pygments_lexer": "ipython3",
   "version": "3.7.3"
  }
 },
 "nbformat": 4,
 "nbformat_minor": 4
}
